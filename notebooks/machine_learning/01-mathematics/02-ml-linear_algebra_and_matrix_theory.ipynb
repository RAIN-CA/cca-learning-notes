{
 "cells": [
  {
   "cell_type": "markdown",
   "id": "c911a44a",
   "metadata": {},
   "source": [
    "# Chapter 2 Linear Algebra and Matrix Theory | 机器学习线性代数与矩阵理论\n",
    "\n",
    "## 2.1 Vectors and Their Operations | 向量及其运算\n"
   ]
  },
  {
   "cell_type": "markdown",
   "id": "c0def485",
   "metadata": {},
   "source": [
    "### 2.1.1 Basic Concepts | 基本概念"
   ]
  },
  {
   "cell_type": "markdown",
   "id": "838420cb",
   "metadata": {},
   "source": [
    "<span style=\"color:lightblue\"><strong>Matrix addition:</strong></span> Two matrices $\\mathbf{A}$ and $\\mathbf{B}$ of the same dimension can be added by adding their corresponding elements.\n",
    "\n",
    "$$\n",
    "\\mathbf{C} = \\mathbf{A} + \\mathbf{B}, \\quad \\text{where} \\quad c_{ij} = a_{ij} + b_{ij}.\n",
    "$$\n",
    "\n",
    "Here, each entry $c_{ij}$ in the resulting matrix $\\mathbf{C}$ is the sum of entries $a_{ij}$ and $b_{ij}$ from matrices $\\mathbf{A}$ and $\\mathbf{B}$."
   ]
  },
  {
   "cell_type": "code",
   "execution_count": 5,
   "id": "be4f55d0",
   "metadata": {},
   "outputs": [
    {
     "name": "stdout",
     "output_type": "stream",
     "text": [
      "Matrix A:\n",
      "[[1 2]\n",
      " [3 4]]\n",
      "\n",
      "Matrix B:\n",
      "[[5 6]\n",
      " [7 8]]\n",
      "\n",
      "Matrix A + Matrix B:\n",
      "[[ 6  8]\n",
      " [10 12]]\n"
     ]
    }
   ],
   "source": [
    "import numpy as np\n",
    "\n",
    "# Define two matrices\n",
    "A = np.array([[1, 2],\n",
    "              [3, 4]])\n",
    "\n",
    "B = np.array([[5, 6],\n",
    "              [7, 8]])\n",
    "\n",
    "# Add the matrices\n",
    "C = A + B\n",
    "\n",
    "# Print results\n",
    "print(\"Matrix A:\")\n",
    "print(A)\n",
    "\n",
    "print(\"\\nMatrix B:\")\n",
    "print(B)\n",
    "\n",
    "print(\"\\nMatrix A + Matrix B:\")\n",
    "print(C)"
   ]
  },
  {
   "cell_type": "markdown",
   "id": "98b37871",
   "metadata": {},
   "source": [
    "<span style=\"color:lightblue\"><strong>Vector subtraction:</strong></span>  The difference between two vectors $\\mathbf{u}$ and $\\mathbf{v}$ is obtained by subtracting their corresponding components.\n",
    "\n",
    "$$\n",
    "\\mathbf{u} - \\mathbf{v} = [u_1 - v_1, \\; u_2 - v_2, \\; \\ldots, \\; u_n - v_n].\n",
    "$$\n",
    "\n",
    "Geometrically, $\\mathbf{u} - \\mathbf{v}$ represents the vector from the tip of $\\mathbf{v}$ to the tip of $\\mathbf{u}$."
   ]
  },
  {
   "cell_type": "code",
   "execution_count": 7,
   "id": "46117824",
   "metadata": {},
   "outputs": [
    {
     "name": "stdout",
     "output_type": "stream",
     "text": [
      "Vector u:\n",
      "[3 5]\n",
      "\n",
      "Vector v:\n",
      "[1 2]\n",
      "\n",
      "Vector u - v:\n",
      "[2 3]\n"
     ]
    }
   ],
   "source": [
    "import numpy as np\n",
    "\n",
    "# Define two vectors\n",
    "u = np.array([3, 5])\n",
    "v = np.array([1, 2])\n",
    "\n",
    "# Subtract vectors\n",
    "diff = u - v\n",
    "\n",
    "# Print results\n",
    "print(\"Vector u:\")\n",
    "print(u)\n",
    "\n",
    "print(\"\\nVector v:\")\n",
    "print(v)\n",
    "\n",
    "print(\"\\nVector u - v:\")\n",
    "print(diff)"
   ]
  },
  {
   "cell_type": "markdown",
   "id": "36c10657",
   "metadata": {},
   "source": [
    "<span style=\"color:lightblue\"><strong>Matrix Transpose:</strong></span> The transpose of a matrix $\\mathbf{A}$, denoted as $\\mathbf{A}^T$, is formed by turning rows into columns and columns into rows.\n",
    "\n",
    "$$\n",
    "\\mathbf{A} = \\begin{bmatrix}\n",
    "a_{11} & a_{12} \\\\\n",
    "a_{21} & a_{22}\n",
    "\\end{bmatrix}\n",
    "\\quad\n",
    "\\Longrightarrow\n",
    "\\quad\n",
    "\\mathbf{A}^T = \\begin{bmatrix}\n",
    "a_{11} & a_{21} \\\\\n",
    "a_{12} & a_{22}\n",
    "\\end{bmatrix}.\n",
    "$$\n",
    "\n",
    "In general, for matrix $\\mathbf{A} = [a_{ij}]$, its transpose $\\mathbf{A}^T = [a_{ji}]$."
   ]
  },
  {
   "cell_type": "code",
   "execution_count": 6,
   "id": "94296fa3",
   "metadata": {},
   "outputs": [
    {
     "name": "stdout",
     "output_type": "stream",
     "text": [
      "Matrix A:\n",
      "[[1 2 3]\n",
      " [4 5 6]]\n",
      "\n",
      "Transpose of Matrix A (A^T):\n",
      "[[1 4]\n",
      " [2 5]\n",
      " [3 6]]\n"
     ]
    }
   ],
   "source": [
    "import numpy as np\n",
    "\n",
    "# Define a matrix\n",
    "A = np.array([[1, 2, 3],\n",
    "              [4, 5, 6]])\n",
    "\n",
    "# Calculate its transpose\n",
    "A_T = A.T\n",
    "\n",
    "# Print results\n",
    "print(\"Matrix A:\")\n",
    "print(A)\n",
    "\n",
    "print(\"\\nTranspose of Matrix A (A^T):\")\n",
    "print(A_T)"
   ]
  },
  {
   "cell_type": "markdown",
   "id": "1606d2ce",
   "metadata": {},
   "source": [
    "<span style=\"color:lightblue\"><strong>Matrix multiplication (inner product):</strong></span> The inner product of two matrices $\\mathbf{A}$ and $\\mathbf{B}$ is defined if the number of columns in $\\mathbf{A}$ equals the number of rows in $\\mathbf{B}$.\n",
    "\n",
    "If $\\mathbf{A}$ is an $m \\times n$ matrix and $\\mathbf{B}$ is an $n \\times p$ matrix, then their product $\\mathbf{C} = \\mathbf{A}\\mathbf{B}$ is an $m \\times p$ matrix where\n",
    "\n",
    "$$\n",
    "c_{ij} = \\sum_{k=1}^{n} a_{ik} b_{kj}.\n",
    "$$\n",
    "\n",
    "Here, each element $c_{ij}$ is computed by taking the dot product of the $i$-th row of $\\mathbf{A}$ with the $j$-th column of $\\mathbf{B}$."
   ]
  },
  {
   "cell_type": "code",
   "execution_count": 8,
   "id": "1e35ba9b",
   "metadata": {},
   "outputs": [
    {
     "name": "stdout",
     "output_type": "stream",
     "text": [
      "Matrix A:\n",
      "[[1 2]\n",
      " [3 4]]\n",
      "\n",
      "Matrix B:\n",
      "[[5 6]\n",
      " [7 8]]\n",
      "\n",
      "Matrix A * Matrix B:\n",
      "[[19 22]\n",
      " [43 50]]\n"
     ]
    }
   ],
   "source": [
    "import numpy as np\n",
    "\n",
    "# Define two matrices\n",
    "A = np.array([[1, 2],\n",
    "              [3, 4]])\n",
    "\n",
    "B = np.array([[5, 6],\n",
    "              [7, 8]])\n",
    "\n",
    "# Perform matrix multiplication\n",
    "C = np.dot(A, B)\n",
    "# Alternatively, C = A @ B\n",
    "\n",
    "# Print results\n",
    "print(\"Matrix A:\")\n",
    "print(A)\n",
    "\n",
    "print(\"\\nMatrix B:\")\n",
    "print(B)\n",
    "\n",
    "print(\"\\nMatrix A * Matrix B:\")\n",
    "print(C)"
   ]
  },
  {
   "cell_type": "markdown",
   "id": "b05359c8",
   "metadata": {},
   "source": [
    "<span style=\"color:lightblue\"><strong>Inner product properties:</strong></span>\n",
    "\n",
    "1. **Symmetry:**  \n",
    "   $$\n",
    "   x^T y = y^T x\n",
    "   $$\n",
    "\n",
    "2. **Distributivity over addition:**  \n",
    "   $$\n",
    "   (x + y)^T z = x^T z + y^T z\n",
    "   $$\n",
    "\n",
    "3. **Scalar multiplication:**  \n",
    "   $$\n",
    "   (k x)^T y = k x^T y\n",
    "   $$\n",
    "\n",
    "4. **Distributivity over addition (alternative form):**  \n",
    "   $$\n",
    "   z^T (x + y) = z^T x + z^T y\n",
    "   $$\n",
    "\n",
    "These properties show that the inner product is **symmetric**, **linear in each argument**, and **distributive** over vector addition."
   ]
  },
  {
   "cell_type": "code",
   "execution_count": null,
   "id": "8e667a42",
   "metadata": {},
   "outputs": [],
   "source": [
    "import numpy as np\n",
    "\n",
    "# Define vectors and scalar\n",
    "x = np.array([1, 2, 3])\n",
    "y = np.array([4, 5, 6])\n",
    "z = np.array([7, 8, 9])\n",
    "k = 2\n",
    "\n",
    "# 1. Symmetry: x^T y = y^T x\n",
    "dot_xy = np.dot(x, y)\n",
    "dot_yx = np.dot(y, x)\n",
    "\n",
    "print(\"1. Symmetry:\")\n",
    "print(\"x^T y =\", dot_xy)\n",
    "print(\"y^T x =\", dot_yx)\n",
    "print(\"Are they equal?\", np.allclose(dot_xy, dot_yx))\n",
    "\n",
    "print(\"\\n\" + \"-\"*40)\n",
    "\n",
    "# 2. Distributivity over addition: (x + y)^T z = x^T z + y^T z\n",
    "left = np.dot(x + y, z)\n",
    "right = np.dot(x, z) + np.dot(y, z)\n",
    "\n",
    "print(\"2. Distributivity over addition:\")\n",
    "print(\"(x + y)^T z =\", left)\n",
    "print(\"x^T z + y^T z =\", right)\n",
    "print(\"Are they equal?\", np.allclose(left, right))\n",
    "\n",
    "print(\"\\n\" + \"-\"*40)\n",
    "\n",
    "# 3. Scalar multiplication: (k x)^T y = k x^T y\n",
    "left = np.dot(k * x, y)\n",
    "right = k * np.dot(x, y)\n",
    "\n",
    "print(\"3. Scalar multiplication:\")\n",
    "print(\"(k x)^T y =\", left)\n",
    "print(\"k x^T y =\", right)\n",
    "print(\"Are they equal?\", np.allclose(left, right))\n",
    "\n",
    "print(\"\\n\" + \"-\"*40)\n",
    "\n",
    "# 4. Distributivity over addition (alternative form): z^T (x + y) = z^T x + z^T y\n",
    "left = np.dot(z, x + y)\n",
    "right = np.dot(z, x) + np.dot(z, y)\n",
    "\n",
    "print(\"4. Distributivity over addition (alternative form):\")\n",
    "print(\"z^T (x + y) =\", left)\n",
    "print(\"z^T x + z^T y =\", right)\n",
    "print(\"Are they equal?\", np.allclose(left, right))"
   ]
  }
 ],
 "metadata": {
  "kernelspec": {
   "display_name": "lin_alg_py",
   "language": "python",
   "name": "python3"
  },
  "language_info": {
   "codemirror_mode": {
    "name": "ipython",
    "version": 3
   },
   "file_extension": ".py",
   "mimetype": "text/x-python",
   "name": "python",
   "nbconvert_exporter": "python",
   "pygments_lexer": "ipython3",
   "version": "3.9.23"
  }
 },
 "nbformat": 4,
 "nbformat_minor": 5
}
