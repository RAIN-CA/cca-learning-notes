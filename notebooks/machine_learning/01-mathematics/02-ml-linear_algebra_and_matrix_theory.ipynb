{
 "cells": [
  {
   "cell_type": "markdown",
   "id": "c911a44a",
   "metadata": {},
   "source": [
    "# Chapter 2 Linear Algebra and Matrix Theory | 机器学习线性代数与矩阵理论\n",
    "\n",
    "## 2.1 Vectors and Their Operations | 向量及其运算\n"
   ]
  },
  {
   "cell_type": "markdown",
   "id": "c0def485",
   "metadata": {},
   "source": [
    "### 2.1.1 Basic Concepts | 基本概念"
   ]
  },
  {
   "cell_type": "code",
   "execution_count": null,
   "id": "be4f55d0",
   "metadata": {
    "vscode": {
     "languageId": "plaintext"
    }
   },
   "outputs": [],
   "source": [
    "import numpy as np\n",
    "import matplotlib.pyplot as plt\n",
    "\n",
    "# Define vectors\n",
    "v1 = np.array([2, 1])\n",
    "v2 = np.array([1, 2])\n",
    "\n",
    "# Create a new figure\n",
    "plt.figure()\n",
    "\n",
    "# Draw x and y axes\n",
    "plt.axhline(0, color='grey')\n",
    "plt.axvline(0, color='grey')\n",
    "\n",
    "# Plot vectors using quiver\n",
    "plt.quiver(0, 0, v1[0], v1[1], angles='xy', scale_units='xy', scale=1, color='r', label='v1 = [2,1]')\n",
    "plt.quiver(0, 0, v2[0], v2[1], angles='xy', scale_units='xy', scale=1, color='b', label='v2 = [1,2]')\n",
    "\n",
    "# Set axis limits\n",
    "plt.xlim(-1, 3)\n",
    "plt.ylim(-1, 3)\n",
    "\n",
    "# Add grid, legend, and title\n",
    "plt.grid()\n",
    "plt.legend()\n",
    "plt.title('2D Vectors Representation')\n",
    "\n",
    "# Display the plot\n",
    "plt.show()"
   ]
  }
 ],
 "metadata": {
  "language_info": {
   "name": "python"
  }
 },
 "nbformat": 4,
 "nbformat_minor": 5
}
